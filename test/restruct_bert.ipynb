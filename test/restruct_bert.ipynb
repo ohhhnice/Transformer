{
 "cells": [
  {
   "cell_type": "markdown",
   "metadata": {},
   "source": [
    "# 代码构建部分"
   ]
  },
  {
   "cell_type": "code",
   "execution_count": 6,
   "metadata": {},
   "outputs": [],
   "source": [
    "import torch\n",
    "import torch.nn as nn"
   ]
  },
  {
   "cell_type": "code",
   "execution_count": 10,
   "metadata": {},
   "outputs": [],
   "source": [
    "class Embedding(nn.Module):\n",
    "    def __init__(self, d_model, max_len, vocab_size, dropout, pad_token_id=0):\n",
    "        super(Embedding, self).__init__()\n",
    "        self.LayerNorm = nn.LayerNorm(d_model, eps=1e-12)\n",
    "        self.position_embeddings = nn.Embedding(max_len, d_model)\n",
    "        self.word_embeddings = nn.Embedding(vocab_size, d_model, padding_idx=pad_token_id) \n",
    "        self.token_type_embeddings = nn.Embedding(2, d_model)\n",
    "        self.dropout = nn.Dropout()\n",
    "        self.register_buffer(\n",
    "            \"position_ids\", torch.arange(max_len).expand((1, -1)), persistent=False\n",
    "        )\n",
    "    def forward(self, x, token_type_ids):\n",
    "        seq_length = x.size(1)\n",
    "        position_ids = self.position_ids[:, 0 : seq_length + 0]\n",
    "        inputs_embeds = self.word_embeddings(x)\n",
    "        token_type_embeddings = self.token_type_embeddings(token_type_ids)\n",
    "        embeddings = inputs_embeds + token_type_embeddings\n",
    "        position_embeddings = self.position_embeddings(position_ids)\n",
    "        embeddings += position_embeddings\n",
    "        embeddings = self.LayerNorm(embeddings)\n",
    "        embeddings = self.dropout(embeddings)\n",
    "        return embeddings"
   ]
  },
  {
   "cell_type": "code",
   "execution_count": 20,
   "metadata": {},
   "outputs": [],
   "source": [
    "class Bert(nn.Module):\n",
    "    def __init__(self, d_model, max_len, vocab_size, dropout=0.1):\n",
    "        super(Bert, self).__init__()\n",
    "        self.embeddings = Embedding(d_model, max_len, vocab_size, dropout)\n",
    "    def forward(self, input_ids, attention_mask, token_type_ids):\n",
    "        pass\n",
    "\n",
    "    def load_dict(self, safetensor_path):\n",
    "        from safetensors.torch import save_file, load_file\n",
    "        loaded_state = load_file(safetensor_path)\n",
    "        self.embeddings.LayerNorm.weight = torch.nn.Parameter(loaded_state['bert.embeddings.LayerNorm.gamma'])\n",
    "        self.embeddings.LayerNorm.bias = torch.nn.Parameter(loaded_state['bert.embeddings.LayerNorm.beta'])\n",
    "        self.embeddings.position_embeddings.weight = torch.nn.Parameter(loaded_state['bert.embeddings.position_embeddings.weight'])\n",
    "        self.embeddings.word_embeddings.weight = torch.nn.Parameter(loaded_state['bert.embeddings.word_embeddings.weight'])\n",
    "        self.embeddings.token_type_embeddings.weight = torch.nn.Parameter(loaded_state['bert.embeddings.token_type_embeddings.weight'])\n",
    "        self.eval()"
   ]
  },
  {
   "cell_type": "markdown",
   "metadata": {},
   "source": [
    "# 查看模型的参数"
   ]
  },
  {
   "cell_type": "code",
   "execution_count": 21,
   "metadata": {},
   "outputs": [],
   "source": [
    "model = Bert(\n",
    "    d_model=768,\n",
    "    max_len=512,\n",
    "    vocab_size=30522\n",
    ")"
   ]
  },
  {
   "cell_type": "code",
   "execution_count": 22,
   "metadata": {},
   "outputs": [
    {
     "name": "stdout",
     "output_type": "stream",
     "text": [
      "embeddings.LayerNorm.weight: torch.Size([768])\n",
      "embeddings.LayerNorm.bias: torch.Size([768])\n",
      "embeddings.position_embeddings.weight: torch.Size([512, 768])\n",
      "embeddings.word_embeddings.weight: torch.Size([30522, 768])\n",
      "embeddings.token_type_embeddings.weight: torch.Size([2, 768])\n"
     ]
    }
   ],
   "source": [
    "state_dict = model.state_dict()\n",
    "for key, value in state_dict.items():\n",
    "    print(f\"{key}: {value.shape}\")"
   ]
  },
  {
   "cell_type": "markdown",
   "metadata": {},
   "source": [
    "# 验证自己写的代码输出内容"
   ]
  },
  {
   "cell_type": "code",
   "execution_count": 23,
   "metadata": {},
   "outputs": [],
   "source": [
    "input_ids = torch.zeros((2, 128), dtype=torch.long)  # 批次2，序列长度128\n",
    "attention_mask = torch.ones(2, 128, dtype=torch.float32)        # 无padding，全1掩码\n",
    "token_type_ids = torch.zeros(2, 128, dtype=torch.long)  "
   ]
  },
  {
   "cell_type": "code",
   "execution_count": 24,
   "metadata": {},
   "outputs": [],
   "source": [
    "model = Bert(\n",
    "    d_model=768,\n",
    "    max_len=512,\n",
    "    vocab_size=30522\n",
    ")\n",
    "safetensor_path = \"D:/自提高/LLM/transformer_self/model/bert/model.safetensors\"\n",
    "model.load_dict(safetensor_path)"
   ]
  },
  {
   "cell_type": "code",
   "execution_count": null,
   "metadata": {},
   "outputs": [
    {
     "name": "stdout",
     "output_type": "stream",
     "text": [
      "tensor([ 0.2977, -0.6056], grad_fn=<SliceBackward0>)\n"
     ]
    }
   ],
   "source": [
    "embedding_output = model.embeddings(input_ids, token_type_ids)\n",
    "print(embedding_output[0][0][:2])"
   ]
  },
  {
   "cell_type": "markdown",
   "metadata": {},
   "source": [
    "# 验证官方输出内容"
   ]
  },
  {
   "cell_type": "code",
   "execution_count": 3,
   "metadata": {},
   "outputs": [],
   "source": [
    "import torch\n",
    "from transformers import BertTokenizer, BertModel\n",
    "model_path = \"D:/自提高/LLM/transformer_self/model/bert\"\n",
    "tokenizer = BertTokenizer.from_pretrained(model_path)\n",
    "model = BertModel.from_pretrained(model_path)"
   ]
  },
  {
   "cell_type": "code",
   "execution_count": 4,
   "metadata": {},
   "outputs": [],
   "source": [
    "input_ids = torch.zeros((2, 128), dtype=torch.long)  # 批次2，序列长度128\n",
    "attention_mask = torch.ones(2, 128, dtype=torch.float32)        # 无padding，全1掩码\n",
    "token_type_ids = torch.zeros(2, 128, dtype=torch.long)          # 单段落，全0\n",
    "sequence_output, pooled_output = model(input_ids, attention_mask, token_type_ids)\n",
    "output = model(input_ids, attention_mask, token_type_ids)"
   ]
  },
  {
   "cell_type": "code",
   "execution_count": 5,
   "metadata": {},
   "outputs": [
    {
     "name": "stdout",
     "output_type": "stream",
     "text": [
      "tensor([ 0.2977, -0.6056], grad_fn=<SliceBackward0>)\n"
     ]
    }
   ],
   "source": [
    "embedding_output = model.embeddings(input_ids=input_ids,token_type_ids=token_type_ids)\n",
    "print(embedding_output[0][0][:2])"
   ]
  }
 ],
 "metadata": {
  "kernelspec": {
   "display_name": ".venv",
   "language": "python",
   "name": "python3"
  },
  "language_info": {
   "codemirror_mode": {
    "name": "ipython",
    "version": 3
   },
   "file_extension": ".py",
   "mimetype": "text/x-python",
   "name": "python",
   "nbconvert_exporter": "python",
   "pygments_lexer": "ipython3",
   "version": "3.10.2"
  }
 },
 "nbformat": 4,
 "nbformat_minor": 2
}
