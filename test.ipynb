{
 "cells": [
  {
   "cell_type": "code",
   "execution_count": 104,
   "metadata": {},
   "outputs": [],
   "source": [
    "import torch\n",
    "import matplotlib.pyplot as plt\n",
    "import random"
   ]
  },
  {
   "cell_type": "code",
   "execution_count": 105,
   "metadata": {},
   "outputs": [
    {
     "data": {
      "text/plain": [
       "(torch.Size([1000, 2]), torch.Size([1000, 1]))"
      ]
     },
     "execution_count": 105,
     "metadata": {},
     "output_type": "execute_result"
    }
   ],
   "source": [
    "def generate_data(w, b, num_samples=1000):\n",
    "    x = torch.normal(0, 1, (num_samples, len(w)))\n",
    "    y = torch.matmul(x, w) + b\n",
    "    y += torch.normal(0, 0.1, size=y.shape)  # Adding some noise\n",
    "    return x, y.reshape((-1,1))\n",
    "x, y = generate_data(torch.tensor([2.0, -3.0]), torch.tensor([1.0]))\n",
    "x.shape,y.shape"
   ]
  },
  {
   "cell_type": "code",
   "execution_count": 106,
   "metadata": {},
   "outputs": [
    {
     "data": {
      "image/png": "[encoded data removed]",
      "text/plain": [
       "<Figure size 640x480 with 1 Axes>"
      ]
     },
     "metadata": {},
     "output_type": "display_data"
    }
   ],
   "source": [
    "plt.figure()\n",
    "plt.scatter(x[:, 1].numpy(), y.numpy())\n",
    "plt.show()"
   ]
  },
  {
   "cell_type": "code",
   "execution_count": 107,
   "metadata": {},
   "outputs": [],
   "source": [
    "\n",
    "def data_iter(batch_size, features, labels):\n",
    "    num_examples = len(features)\n",
    "    indices = list(range(num_examples))\n",
    "    random.shuffle(indices)\n",
    "\n",
    "    for i in range(0, num_examples, batch_size):\n",
    "        batch_indices = indices[i:min(i + batch_size, num_examples)]\n",
    "        yield features[batch_indices], labels[batch_indices]\n",
    "\n",
    "# for xi,yi in data_iter(10, x, y):\n",
    "#     print(xi, yi)\n",
    "#     break"
   ]
  },
  {
   "cell_type": "code",
   "execution_count": 108,
   "metadata": {},
   "outputs": [],
   "source": [
    "w, b = torch.normal(0, 0.01, size=(2, 1), requires_grad=True), torch.zeros(1, requires_grad=True)\n",
    "def linreg(X, w, b):\n",
    "    return torch.matmul(X, w) + b"
   ]
  },
  {
   "cell_type": "code",
   "execution_count": 109,
   "metadata": {},
   "outputs": [],
   "source": [
    "def squared_loss(y_hat, y):\n",
    "    return ((y_hat - y) ** 2)/2"
   ]
  },
  {
   "cell_type": "code",
   "execution_count": 110,
   "metadata": {},
   "outputs": [],
   "source": [
    "def sgd(params, lr):\n",
    "    with torch.no_grad():\n",
    "        for param in params:\n",
    "            param -= lr * param.grad\n",
    "            param.grad.zero_()"
   ]
  },
  {
   "cell_type": "code",
   "execution_count": null,
   "metadata": {},
   "outputs": [],
   "source": []
  },
  {
   "cell_type": "code",
   "execution_count": 111,
   "metadata": {},
   "outputs": [
    {
     "name": "stdout",
     "output_type": "stream",
     "text": [
      "epoch 1, loss 0.027510\n",
      "epoch 2, loss 0.003859\n",
      "epoch 3, loss 0.001028\n"
     ]
    }
   ],
   "source": [
    "lr = 0.003\n",
    "num_epochs = 3\n",
    "batch_size = 10\n",
    "for epoch in range(num_epochs):\n",
    "    for xi, yi in data_iter(batch_size, x, y):\n",
    "        y_hat = linreg(xi, w, b)\n",
    "        loss = squared_loss(y_hat, yi)\n",
    "        loss.sum().backward()\n",
    "        sgd([w, b], lr)\n",
    "    with torch.no_grad():\n",
    "        train_l = squared_loss(linreg(xi, w, b), yi).mean()\n",
    "        print(f'epoch {epoch + 1}, loss {train_l:f}')"
   ]
  },
  {
   "cell_type": "code",
   "execution_count": 112,
   "metadata": {},
   "outputs": [],
   "source": [
    "def create_mask(src, tgt, pad_idx=0):\n",
    "    \"\"\"创建掩码\"\"\"\n",
    "    # 源序列掩码\n",
    "    src_mask = (src != pad_idx).unsqueeze(1).unsqueeze(2)\n",
    "    \n",
    "    # 目标序列掩码\n",
    "    tgt_mask = (tgt != pad_idx).unsqueeze(1).unsqueeze(3)\n",
    "    seq_length = tgt.size(1)\n",
    "    nopeak_mask = (1 - torch.triu(torch.ones(1, seq_length, seq_length), diagonal=1)).bool()\n",
    "    tgt_mask = tgt_mask & nopeak_mask\n",
    "    \n",
    "    return src_mask, tgt_mask"
   ]
  },
  {
   "cell_type": "code",
   "execution_count": 119,
   "metadata": {},
   "outputs": [],
   "source": [
    "src_vocab_size = 1000\n",
    "tgt_vocab_size = 1000\n",
    "d_model = 512\n",
    "n_head = 8\n",
    "num_encoder_layers = 6\n",
    "num_decoder_layers = 6\n",
    "d_ff = 2048\n",
    "max_seq_length = 100\n",
    "dropout = 0.1\n",
    "\n",
    "# 示例输入\n",
    "batch_size = 2\n",
    "src_seq_len = 10\n",
    "tgt_seq_len = 12\n",
    "\n",
    "src = torch.randint(1, src_vocab_size, (batch_size, src_seq_len))\n",
    "tgt = torch.randint(1, tgt_vocab_size, (batch_size, tgt_seq_len))\n",
    "\n",
    "\n",
    "src[0][-1] = 0\n",
    "\n",
    "# 创建掩码\n",
    "src_mask, tgt_mask = create_mask(src, tgt)"
   ]
  },
  {
   "cell_type": "code",
   "execution_count": 120,
   "metadata": {},
   "outputs": [
    {
     "data": {
      "text/plain": [
       "tensor([[[[ True,  True,  True,  True,  True,  True,  True,  True,  True, False]]],\n",
       "\n",
       "\n",
       "        [[[ True,  True,  True,  True,  True,  True,  True,  True,  True,  True]]]])"
      ]
     },
     "execution_count": 120,
     "metadata": {},
     "output_type": "execute_result"
    }
   ],
   "source": [
    "src_mask"
   ]
  },
  {
   "cell_type": "code",
   "execution_count": 122,
   "metadata": {},
   "outputs": [],
   "source": [
    "def create_mask(src, tgt, pad_idx=0):\n",
    "    \"\"\"创建掩码 - 修复版本\"\"\"\n",
    "    # 源序列掩码 [batch_size, 1, 1, src_seq_len]\n",
    "    src_mask = (src != pad_idx).unsqueeze(1).unsqueeze(2)\n",
    "    \n",
    "    # 目标序列掩码\n",
    "    # 填充掩码 [batch_size, 1, tgt_seq_len, 1]\n",
    "    tgt_pad_mask = (tgt != pad_idx).unsqueeze(1).unsqueeze(3)\n",
    "    \n",
    "    # 后续位置掩码（防止看到未来信息）\n",
    "    tgt_seq_len = tgt.size(1)\n",
    "    subsequent_mask = torch.triu(torch.ones(tgt_seq_len, tgt_seq_len, device=src.device), diagonal=1).bool()\n",
    "    subsequent_mask = ~subsequent_mask  # 反转，1表示允许，0表示禁止\n",
    "    subsequent_mask = subsequent_mask.unsqueeze(0).unsqueeze(1)  # [1, 1, tgt_seq_len, tgt_seq_len]\n",
    "    \n",
    "    # 组合两种掩码\n",
    "    tgt_mask = tgt_pad_mask & subsequent_mask\n",
    "    \n",
    "    return src_mask, tgt_mask"
   ]
  },
  {
   "cell_type": "code",
   "execution_count": 124,
   "metadata": {},
   "outputs": [],
   "source": [
    "src = torch.tensor([\n",
    "        [1, 2, 3, 0, 0],  # 有填充\n",
    "        [1, 2, 3, 4, 5]   # 无填充\n",
    "    ])\n",
    "tgt = torch.tensor([\n",
    "        [1, 2, 0, 0],     # 有填充\n",
    "        [1, 2, 3, 4]      # 无填充\n",
    "    ])\n",
    "src_mask, tgt_mask = create_mask(src, tgt, 0)"
   ]
  },
  {
   "cell_type": "code",
   "execution_count": 133,
   "metadata": {},
   "outputs": [
    {
     "data": {
      "text/plain": [
       "tensor([[ 2.0000e-01,  3.0000e-01,  1.0000e-01, -1.0000e+09, -1.0000e+09],\n",
       "        [ 1.0000e-01,  4.0000e-01,  2.0000e-01, -1.0000e+09, -1.0000e+09],\n",
       "        [ 3.0000e-01,  2.0000e-01,  3.0000e-01, -1.0000e+09, -1.0000e+09],\n",
       "        [ 2.0000e-01,  2.0000e-01,  2.0000e-01, -1.0000e+09, -1.0000e+09],\n",
       "        [ 1.0000e-01,  1.0000e-01,  1.0000e-01, -1.0000e+09, -1.0000e+09]])"
      ]
     },
     "execution_count": 133,
     "metadata": {},
     "output_type": "execute_result"
    }
   ],
   "source": [
    "def create_encoder_mask(src, pad_idx=0):\n",
    "    \"\"\"\n",
    "    创建编码器mask\n",
    "    src: [batch_size, seq_len]\n",
    "    返回: [batch_size, 1, 1, seq_len] 适合多头注意力的形状\n",
    "    \"\"\"\n",
    "    # 创建padding mask (True表示有效位置，False表示padding位置)\n",
    "    mask = (src != pad_idx).unsqueeze(1).unsqueeze(2)  # [batch_size, 1, 1, seq_len]\n",
    "    return mask\n",
    "\n",
    "# 在注意力计算中的应用\n",
    "scores = torch.tensor([[0.2, 0.3, 0.1, 0.2, 0.2],\n",
    "    [0.1, 0.4, 0.2, 0.2, 0.1],\n",
    "    [0.3, 0.2, 0.3, 0.1, 0.1],\n",
    "    [0.2, 0.2, 0.2, 0.2, 0.2],  \n",
    "    [0.1, 0.1, 0.1, 0.3, 0.4]]  \n",
    ") \n",
    "mask = torch.tensor([True, True, True, False, False])\n",
    "scores = scores.masked_fill(mask == 0, -1e9)\n",
    "# if mask is not None:\n",
    "#     # 将mask为False的位置（padding）的scores设置为极小的负数\n",
    "#     # 这样在softmax后，这些位置的权重会接近0\n",
    "#     scores = scores.masked_fill(mask == 0, -1e9)\n",
    "\n",
    "# attn = F.softmax(scores, dim=-1)\n",
    "scores"
   ]
  },
  {
   "cell_type": "code",
   "execution_count": 135,
   "metadata": {},
   "outputs": [
    {
     "data": {
      "text/plain": [
       "tensor([[0.3322, 0.3672, 0.3006, 0.0000, 0.0000],\n",
       "        [0.2894, 0.3907, 0.3199, 0.0000, 0.0000],\n",
       "        [0.3443, 0.3115, 0.3443, 0.0000, 0.0000],\n",
       "        [0.3333, 0.3333, 0.3333, 0.0000, 0.0000],\n",
       "        [0.3333, 0.3333, 0.3333, 0.0000, 0.0000]])"
      ]
     },
     "execution_count": 135,
     "metadata": {},
     "output_type": "execute_result"
    }
   ],
   "source": [
    "import torch.nn.functional as F\n",
    "attn = F.softmax(scores, dim=-1)\n",
    "attn"
   ]
  },
  {
   "cell_type": "code",
   "execution_count": 139,
   "metadata": {},
   "outputs": [
    {
     "name": "stdout",
     "output_type": "stream",
     "text": [
      "tensor([[1, 2, 3, 0, 0],\n",
      "        [1, 2, 3, 4, 5]])\n"
     ]
    },
    {
     "data": {
      "text/plain": [
       "tensor([[[False, False, False,  True,  True],\n",
       "         [False, False, False,  True,  True],\n",
       "         [False, False, False,  True,  True],\n",
       "         [False, False, False,  True,  True],\n",
       "         [False, False, False,  True,  True]],\n",
       "\n",
       "        [[False, False, False, False, False],\n",
       "         [False, False, False, False, False],\n",
       "         [False, False, False, False, False],\n",
       "         [False, False, False, False, False],\n",
       "         [False, False, False, False, False]]])"
      ]
     },
     "execution_count": 139,
     "metadata": {},
     "output_type": "execute_result"
    }
   ],
   "source": [
    "def get_attn_pad_mask(seq_q, seq_k):                       # seq_q: [batch_size, seq_len] ,seq_k: [batch_size, seq_len]\n",
    "    batch_size, len_q = seq_q.size()\n",
    "    batch_size, len_k = seq_k.size()\n",
    "    pad_attn_mask = seq_k.data.eq(0).unsqueeze(1)          # 判断 输入那些含有P(=0),用1标记 ,[batch_size, 1, len_k]\n",
    "    return pad_attn_mask.expand(batch_size, len_q, len_k)  # 扩展成多维度\n",
    "\n",
    "print(src)\n",
    "get_attn_pad_mask(src, src)"
   ]
  }
 ],
 "metadata": {
  "kernelspec": {
   "display_name": ".venv",
   "language": "python",
   "name": "python3"
  },
  "language_info": {
   "codemirror_mode": {
    "name": "ipython",
    "version": 3
   },
   "file_extension": ".py",
   "mimetype": "text/x-python",
   "name": "python",
   "nbconvert_exporter": "python",
   "pygments_lexer": "ipython3",
   "version": "3.10.2"
  }
 },
 "nbformat": 4,
 "nbformat_minor": 2
}
